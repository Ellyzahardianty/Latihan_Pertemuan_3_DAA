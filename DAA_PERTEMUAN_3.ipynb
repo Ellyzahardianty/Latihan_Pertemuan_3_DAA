{
  "cells": [
    {
      "cell_type": "markdown",
      "metadata": {
        "id": "view-in-github",
        "colab_type": "text"
      },
      "source": [
        "<a href=\"https://colab.research.google.com/github/Ellyzahardianty/Latihan_Pertemuan_3_DAA/blob/main/DAA_PERTEMUAN_3.ipynb\" target=\"_parent\"><img src=\"https://colab.research.google.com/assets/colab-badge.svg\" alt=\"Open In Colab\"/></a>"
      ]
    },
    {
      "cell_type": "code",
      "execution_count": null,
      "metadata": {
        "id": "GNaAYCQfJfOK"
      },
      "outputs": [],
      "source": [
        "import numpy as np"
      ]
    },
    {
      "cell_type": "markdown",
      "metadata": {
        "id": "p6lbvQjtM7jQ"
      },
      "source": [
        "Struktur data dalam Python: Lists"
      ]
    },
    {
      "cell_type": "markdown",
      "metadata": {
        "id": "9MAKmXGEAsja"
      },
      "source": [
        "Latihan 1"
      ]
    },
    {
      "cell_type": "code",
      "execution_count": null,
      "metadata": {
        "colab": {
          "base_uri": "https://localhost:8080/"
        },
        "id": "-illqr9CL6kD",
        "outputId": "b9daff9e-2388-4a9e-a33c-cad623109031"
      },
      "outputs": [
        {
          "name": "stdout",
          "output_type": "stream",
          "text": [
            "Informasi Mahasiswa: {'Nama': 'Ellyza', 'NIM': '2022071015', 'Prodi': 'Informatika', 'Mata Kuliah': 'DAA', 'Tanggal Hari Ini': '15/09/2023', 'Nama Universitas': 'Universitas Pembangunan Jaya'}\n"
          ]
        }
      ],
      "source": [
        "from datetime import date\n",
        "\n",
        "# Informasi mahasiswa\n",
        "Mahasiswa = {\n",
        "    \"Nama\": \"Ellyza\", \"NIM\": \"2022071015\", \"Prodi\": \"Informatika\",\n",
        "    \"Mata Kuliah\": \"DAA\", \"Tanggal Hari Ini\": date.today().strftime(\"%d/%m/%Y\"),\"Nama Universitas\": \"Universitas Pembangunan Jaya\"\n",
        "}\n",
        "\n",
        "# Menampilkan informasi mahasiswa\n",
        "print(\"Informasi Mahasiswa:\", Mahasiswa)"
      ]
    },
    {
      "cell_type": "markdown",
      "metadata": {
        "id": "wT5T_Q-3BNpu"
      },
      "source": [
        "Latihan 2"
      ]
    },
    {
      "cell_type": "code",
      "execution_count": null,
      "metadata": {
        "colab": {
          "base_uri": "https://localhost:8080/"
        },
        "id": "RUzXtah_RL4C",
        "outputId": "ff4280af-262f-4402-eea8-03177bf3fb62"
      },
      "outputs": [
        {
          "name": "stdout",
          "output_type": "stream",
          "text": [
            "2022071015\n"
          ]
        }
      ],
      "source": [
        "print(Mahasiswa[\"NIM\"])"
      ]
    },
    {
      "cell_type": "code",
      "execution_count": null,
      "metadata": {
        "colab": {
          "base_uri": "https://localhost:8080/"
        },
        "id": "UNhnvXCMR0sT",
        "outputId": "73368064-18d6-4ab5-8209-a48c145c686c"
      },
      "outputs": [
        {
          "name": "stdout",
          "output_type": "stream",
          "text": [
            "Ellyza\n"
          ]
        }
      ],
      "source": [
        "print(Mahasiswa[\"Nama\"])"
      ]
    },
    {
      "cell_type": "markdown",
      "metadata": {
        "id": "rH8mwYaIRzxE"
      },
      "source": [
        "Latihan 3"
      ]
    },
    {
      "cell_type": "code",
      "execution_count": null,
      "metadata": {
        "colab": {
          "base_uri": "https://localhost:8080/"
        },
        "id": "Vcncz-d1T594",
        "outputId": "3bbc38b1-b654-476b-fc96-0b62a86524cf"
      },
      "outputs": [
        {
          "name": "stdout",
          "output_type": "stream",
          "text": [
            "Universitas Pembangunan Jaya\n"
          ]
        }
      ],
      "source": [
        "print(Mahasiswa[\"Nama Universitas\"])"
      ]
    },
    {
      "cell_type": "code",
      "execution_count": null,
      "metadata": {
        "colab": {
          "base_uri": "https://localhost:8080/"
        },
        "id": "ewVe6bcLB57X",
        "outputId": "f85e2cdd-e794-4897-bd49-be46398b042d"
      },
      "outputs": [
        {
          "name": "stdout",
          "output_type": "stream",
          "text": [
            "2022071015 Informatika\n"
          ]
        }
      ],
      "source": [
        "print(Mahasiswa[\"NIM\"], Mahasiswa[\"Prodi\"])"
      ]
    },
    {
      "cell_type": "markdown",
      "metadata": {
        "id": "krVbWxjxRnpJ"
      },
      "source": [
        "  Latihan 4"
      ]
    },
    {
      "cell_type": "code",
      "execution_count": null,
      "metadata": {
        "colab": {
          "base_uri": "https://localhost:8080/"
        },
        "id": "o1TWMWPwR3_5",
        "outputId": "a7eb152e-76f8-4e0e-ac8a-31950c42324f"
      },
      "outputs": [
        {
          "name": "stdout",
          "output_type": "stream",
          "text": [
            "Red Square\n",
            "Green Square\n",
            "Blue Square\n",
            "Yellow Square\n"
          ]
        }
      ],
      "source": [
        "bin_colors = ['Red', 'Green', 'Blue', 'Yellow']\n",
        "for aColor in bin_colors:\n",
        "  print (aColor + \" Square\")"
      ]
    },
    {
      "cell_type": "markdown",
      "metadata": {
        "id": "lDXJyZkuMIy6"
      },
      "source": [
        "Latihan 5"
      ]
    },
    {
      "cell_type": "code",
      "execution_count": null,
      "metadata": {
        "colab": {
          "base_uri": "https://localhost:8080/"
        },
        "id": "6HPunDg9CDh9",
        "outputId": "3bc4675d-4d80-4878-df79-0f79f9349c3b"
      },
      "outputs": [
        {
          "name": "stdout",
          "output_type": "stream",
          "text": [
            "UPJ Ellyza Hardianty\n",
            "UPJ 2022071010\n",
            "UPJ Informatika\n",
            "UPJ DAA\n",
            "UPJ Universitas Pembangunan Jaya\n",
            "UPJ Today\n"
          ]
        }
      ],
      "source": [
        "Mahasiswa = [\"Ellyza Hardianty\", \"2022071010\", \"Informatika\",\n",
        "             \"DAA\", \"Universitas Pembangunan Jaya\", \"Today\"]\n",
        "for mhs in Mahasiswa:\n",
        "  print( \"UPJ \" + mhs)"
      ]
    },
    {
      "cell_type": "markdown",
      "metadata": {
        "id": "8bEG58zuS9sE"
      },
      "source": [
        "Latihan 6"
      ]
    },
    {
      "cell_type": "code",
      "execution_count": null,
      "metadata": {
        "colab": {
          "base_uri": "https://localhost:8080/"
        },
        "id": "9LshCR9bMoWQ",
        "outputId": "197d7a9f-29b4-4b57-f331-66a6f4eb8b54"
      },
      "outputs": [
        {
          "name": "stdout",
          "output_type": "stream",
          "text": [
            "Universitas\n",
            "Pembangunan\n",
            "Jaya\n"
          ]
        }
      ],
      "source": [
        "UPJ = (\"Universitas\", \"Pembangunan\", \"Jaya\")\n",
        "for kampus in UPJ:\n",
        " print (kampus)"
      ]
    },
    {
      "cell_type": "markdown",
      "metadata": {
        "id": "SMOrWHslTDL1"
      },
      "source": [
        "Latihan 7"
      ]
    },
    {
      "cell_type": "code",
      "execution_count": null,
      "metadata": {
        "colab": {
          "base_uri": "https://localhost:8080/"
        },
        "id": "-rV7SWS8TEaO",
        "outputId": "80e5ce97-f037-4b10-cd02-0a7fb07dd1e0"
      },
      "outputs": [
        {
          "name": "stdout",
          "output_type": "stream",
          "text": [
            "(100, (200, 400, 600), 300, (400, 800))\n"
          ]
        }
      ],
      "source": [
        "nested_tuple = (100, 200, 400, 600, 300, 400, 800)\n",
        "Hasil = (pertama, kedua, ketiga, keempat)\n",
        "print(Hasil)"
      ]
    },
    {
      "cell_type": "markdown",
      "metadata": {
        "id": "w3D1RkqhTT7d"
      },
      "source": [
        "Latihan 8"
      ]
    },
    {
      "cell_type": "code",
      "execution_count": null,
      "metadata": {
        "colab": {
          "base_uri": "https://localhost:8080/"
        },
        "id": "vOGitmHvTVIY",
        "outputId": "c37d5946-6da9-4507-8f25-1d5ce296a103"
      },
      "outputs": [
        {
          "name": "stdout",
          "output_type": "stream",
          "text": [
            "{'Nama': 'Ellyza', 'NIM': 2022071010, 'Prodi': 'Informatika', 'Universitas': 'UPJ'}\n"
          ]
        }
      ],
      "source": [
        "data_mahasiswa = {\n",
        "    \"Nama\": \"Ellyza\",\n",
        "    \"NIM\": 2022071010,\n",
        "    \"Prodi\": \"Informatika\",\n",
        "    \"Universitas\": \"UPJ\"\n",
        "}\n",
        "print(data_mahasiswa)"
      ]
    },
    {
      "cell_type": "markdown",
      "metadata": {
        "id": "NC24bvihT4GV"
      },
      "source": [
        "Latihan 9"
      ]
    },
    {
      "cell_type": "code",
      "execution_count": null,
      "metadata": {
        "colab": {
          "base_uri": "https://localhost:8080/"
        },
        "id": "TRxNgo1ZT5IO",
        "outputId": "bf25253f-8e85-4582-c0f5-0947a1ff2ebd"
      },
      "outputs": [
        {
          "name": "stdout",
          "output_type": "stream",
          "text": [
            "{'leaves', 'blood', 'fire hydrant', 'dandelions', 'rose'}\n",
            "{'fire hydrant', 'leaves'}\n"
          ]
        }
      ],
      "source": [
        "yellow = {'rose', 'blood', 'fire hydrant', 'leaves'}\n",
        "red = {'dandelions', 'leaves', 'fire hydrant'}\n",
        "\n",
        "print(yellow|red)\n",
        "print(yellow&red)"
      ]
    },
    {
      "cell_type": "markdown",
      "metadata": {
        "id": "RMN9pgnxU29Z"
      },
      "source": [
        "Latihan 10"
      ]
    },
    {
      "cell_type": "code",
      "execution_count": 7,
      "metadata": {
        "colab": {
          "base_uri": "https://localhost:8080/",
          "height": 143
        },
        "id": "wcO_CMwbVDnj",
        "outputId": "5a34c824-2228-48e6-989d-504b9fe8156b"
      },
      "outputs": [
        {
          "output_type": "execute_result",
          "data": {
            "text/plain": [
              "  No            Prodi  Mahasiswa  Laki-Laki  Perempuan\n",
              "a  1      Informatika         50         30         20\n",
              "b  2  Sistem Inormasi         55         30         25\n",
              "c  3     Teknik Sipil         40         30         10"
            ],
            "text/html": [
              "\n",
              "  <div id=\"df-2c6211e5-04f1-4acf-b4d2-6259d90d4c52\" class=\"colab-df-container\">\n",
              "    <div>\n",
              "<style scoped>\n",
              "    .dataframe tbody tr th:only-of-type {\n",
              "        vertical-align: middle;\n",
              "    }\n",
              "\n",
              "    .dataframe tbody tr th {\n",
              "        vertical-align: top;\n",
              "    }\n",
              "\n",
              "    .dataframe thead th {\n",
              "        text-align: right;\n",
              "    }\n",
              "</style>\n",
              "<table border=\"1\" class=\"dataframe\">\n",
              "  <thead>\n",
              "    <tr style=\"text-align: right;\">\n",
              "      <th></th>\n",
              "      <th>No</th>\n",
              "      <th>Prodi</th>\n",
              "      <th>Mahasiswa</th>\n",
              "      <th>Laki-Laki</th>\n",
              "      <th>Perempuan</th>\n",
              "    </tr>\n",
              "  </thead>\n",
              "  <tbody>\n",
              "    <tr>\n",
              "      <th>a</th>\n",
              "      <td>1</td>\n",
              "      <td>Informatika</td>\n",
              "      <td>50</td>\n",
              "      <td>30</td>\n",
              "      <td>20</td>\n",
              "    </tr>\n",
              "    <tr>\n",
              "      <th>b</th>\n",
              "      <td>2</td>\n",
              "      <td>Sistem Inormasi</td>\n",
              "      <td>55</td>\n",
              "      <td>30</td>\n",
              "      <td>25</td>\n",
              "    </tr>\n",
              "    <tr>\n",
              "      <th>c</th>\n",
              "      <td>3</td>\n",
              "      <td>Teknik Sipil</td>\n",
              "      <td>40</td>\n",
              "      <td>30</td>\n",
              "      <td>10</td>\n",
              "    </tr>\n",
              "  </tbody>\n",
              "</table>\n",
              "</div>\n",
              "    <div class=\"colab-df-buttons\">\n",
              "\n",
              "  <div class=\"colab-df-container\">\n",
              "    <button class=\"colab-df-convert\" onclick=\"convertToInteractive('df-2c6211e5-04f1-4acf-b4d2-6259d90d4c52')\"\n",
              "            title=\"Convert this dataframe to an interactive table.\"\n",
              "            style=\"display:none;\">\n",
              "\n",
              "  <svg xmlns=\"http://www.w3.org/2000/svg\" height=\"24px\" viewBox=\"0 -960 960 960\">\n",
              "    <path d=\"M120-120v-720h720v720H120Zm60-500h600v-160H180v160Zm220 220h160v-160H400v160Zm0 220h160v-160H400v160ZM180-400h160v-160H180v160Zm440 0h160v-160H620v160ZM180-180h160v-160H180v160Zm440 0h160v-160H620v160Z\"/>\n",
              "  </svg>\n",
              "    </button>\n",
              "\n",
              "  <style>\n",
              "    .colab-df-container {\n",
              "      display:flex;\n",
              "      gap: 12px;\n",
              "    }\n",
              "\n",
              "    .colab-df-convert {\n",
              "      background-color: #E8F0FE;\n",
              "      border: none;\n",
              "      border-radius: 50%;\n",
              "      cursor: pointer;\n",
              "      display: none;\n",
              "      fill: #1967D2;\n",
              "      height: 32px;\n",
              "      padding: 0 0 0 0;\n",
              "      width: 32px;\n",
              "    }\n",
              "\n",
              "    .colab-df-convert:hover {\n",
              "      background-color: #E2EBFA;\n",
              "      box-shadow: 0px 1px 2px rgba(60, 64, 67, 0.3), 0px 1px 3px 1px rgba(60, 64, 67, 0.15);\n",
              "      fill: #174EA6;\n",
              "    }\n",
              "\n",
              "    .colab-df-buttons div {\n",
              "      margin-bottom: 4px;\n",
              "    }\n",
              "\n",
              "    [theme=dark] .colab-df-convert {\n",
              "      background-color: #3B4455;\n",
              "      fill: #D2E3FC;\n",
              "    }\n",
              "\n",
              "    [theme=dark] .colab-df-convert:hover {\n",
              "      background-color: #434B5C;\n",
              "      box-shadow: 0px 1px 3px 1px rgba(0, 0, 0, 0.15);\n",
              "      filter: drop-shadow(0px 1px 2px rgba(0, 0, 0, 0.3));\n",
              "      fill: #FFFFFF;\n",
              "    }\n",
              "  </style>\n",
              "\n",
              "    <script>\n",
              "      const buttonEl =\n",
              "        document.querySelector('#df-2c6211e5-04f1-4acf-b4d2-6259d90d4c52 button.colab-df-convert');\n",
              "      buttonEl.style.display =\n",
              "        google.colab.kernel.accessAllowed ? 'block' : 'none';\n",
              "\n",
              "      async function convertToInteractive(key) {\n",
              "        const element = document.querySelector('#df-2c6211e5-04f1-4acf-b4d2-6259d90d4c52');\n",
              "        const dataTable =\n",
              "          await google.colab.kernel.invokeFunction('convertToInteractive',\n",
              "                                                    [key], {});\n",
              "        if (!dataTable) return;\n",
              "\n",
              "        const docLinkHtml = 'Like what you see? Visit the ' +\n",
              "          '<a target=\"_blank\" href=https://colab.research.google.com/notebooks/data_table.ipynb>data table notebook</a>'\n",
              "          + ' to learn more about interactive tables.';\n",
              "        element.innerHTML = '';\n",
              "        dataTable['output_type'] = 'display_data';\n",
              "        await google.colab.output.renderOutput(dataTable, element);\n",
              "        const docLink = document.createElement('div');\n",
              "        docLink.innerHTML = docLinkHtml;\n",
              "        element.appendChild(docLink);\n",
              "      }\n",
              "    </script>\n",
              "  </div>\n",
              "\n",
              "\n",
              "<div id=\"df-ca978203-f181-4450-9b8e-5301bbc4b540\">\n",
              "  <button class=\"colab-df-quickchart\" onclick=\"quickchart('df-ca978203-f181-4450-9b8e-5301bbc4b540')\"\n",
              "            title=\"Suggest charts.\"\n",
              "            style=\"display:none;\">\n",
              "\n",
              "<svg xmlns=\"http://www.w3.org/2000/svg\" height=\"24px\"viewBox=\"0 0 24 24\"\n",
              "     width=\"24px\">\n",
              "    <g>\n",
              "        <path d=\"M19 3H5c-1.1 0-2 .9-2 2v14c0 1.1.9 2 2 2h14c1.1 0 2-.9 2-2V5c0-1.1-.9-2-2-2zM9 17H7v-7h2v7zm4 0h-2V7h2v10zm4 0h-2v-4h2v4z\"/>\n",
              "    </g>\n",
              "</svg>\n",
              "  </button>\n",
              "\n",
              "<style>\n",
              "  .colab-df-quickchart {\n",
              "      --bg-color: #E8F0FE;\n",
              "      --fill-color: #1967D2;\n",
              "      --hover-bg-color: #E2EBFA;\n",
              "      --hover-fill-color: #174EA6;\n",
              "      --disabled-fill-color: #AAA;\n",
              "      --disabled-bg-color: #DDD;\n",
              "  }\n",
              "\n",
              "  [theme=dark] .colab-df-quickchart {\n",
              "      --bg-color: #3B4455;\n",
              "      --fill-color: #D2E3FC;\n",
              "      --hover-bg-color: #434B5C;\n",
              "      --hover-fill-color: #FFFFFF;\n",
              "      --disabled-bg-color: #3B4455;\n",
              "      --disabled-fill-color: #666;\n",
              "  }\n",
              "\n",
              "  .colab-df-quickchart {\n",
              "    background-color: var(--bg-color);\n",
              "    border: none;\n",
              "    border-radius: 50%;\n",
              "    cursor: pointer;\n",
              "    display: none;\n",
              "    fill: var(--fill-color);\n",
              "    height: 32px;\n",
              "    padding: 0;\n",
              "    width: 32px;\n",
              "  }\n",
              "\n",
              "  .colab-df-quickchart:hover {\n",
              "    background-color: var(--hover-bg-color);\n",
              "    box-shadow: 0 1px 2px rgba(60, 64, 67, 0.3), 0 1px 3px 1px rgba(60, 64, 67, 0.15);\n",
              "    fill: var(--button-hover-fill-color);\n",
              "  }\n",
              "\n",
              "  .colab-df-quickchart-complete:disabled,\n",
              "  .colab-df-quickchart-complete:disabled:hover {\n",
              "    background-color: var(--disabled-bg-color);\n",
              "    fill: var(--disabled-fill-color);\n",
              "    box-shadow: none;\n",
              "  }\n",
              "\n",
              "  .colab-df-spinner {\n",
              "    border: 2px solid var(--fill-color);\n",
              "    border-color: transparent;\n",
              "    border-bottom-color: var(--fill-color);\n",
              "    animation:\n",
              "      spin 1s steps(1) infinite;\n",
              "  }\n",
              "\n",
              "  @keyframes spin {\n",
              "    0% {\n",
              "      border-color: transparent;\n",
              "      border-bottom-color: var(--fill-color);\n",
              "      border-left-color: var(--fill-color);\n",
              "    }\n",
              "    20% {\n",
              "      border-color: transparent;\n",
              "      border-left-color: var(--fill-color);\n",
              "      border-top-color: var(--fill-color);\n",
              "    }\n",
              "    30% {\n",
              "      border-color: transparent;\n",
              "      border-left-color: var(--fill-color);\n",
              "      border-top-color: var(--fill-color);\n",
              "      border-right-color: var(--fill-color);\n",
              "    }\n",
              "    40% {\n",
              "      border-color: transparent;\n",
              "      border-right-color: var(--fill-color);\n",
              "      border-top-color: var(--fill-color);\n",
              "    }\n",
              "    60% {\n",
              "      border-color: transparent;\n",
              "      border-right-color: var(--fill-color);\n",
              "    }\n",
              "    80% {\n",
              "      border-color: transparent;\n",
              "      border-right-color: var(--fill-color);\n",
              "      border-bottom-color: var(--fill-color);\n",
              "    }\n",
              "    90% {\n",
              "      border-color: transparent;\n",
              "      border-bottom-color: var(--fill-color);\n",
              "    }\n",
              "  }\n",
              "</style>\n",
              "\n",
              "  <script>\n",
              "    async function quickchart(key) {\n",
              "      const quickchartButtonEl =\n",
              "        document.querySelector('#' + key + ' button');\n",
              "      quickchartButtonEl.disabled = true;  // To prevent multiple clicks.\n",
              "      quickchartButtonEl.classList.add('colab-df-spinner');\n",
              "      try {\n",
              "        const charts = await google.colab.kernel.invokeFunction(\n",
              "            'suggestCharts', [key], {});\n",
              "      } catch (error) {\n",
              "        console.error('Error during call to suggestCharts:', error);\n",
              "      }\n",
              "      quickchartButtonEl.classList.remove('colab-df-spinner');\n",
              "      quickchartButtonEl.classList.add('colab-df-quickchart-complete');\n",
              "    }\n",
              "    (() => {\n",
              "      let quickchartButtonEl =\n",
              "        document.querySelector('#df-ca978203-f181-4450-9b8e-5301bbc4b540 button');\n",
              "      quickchartButtonEl.style.display =\n",
              "        google.colab.kernel.accessAllowed ? 'block' : 'none';\n",
              "    })();\n",
              "  </script>\n",
              "</div>\n",
              "    </div>\n",
              "  </div>\n"
            ]
          },
          "metadata": {},
          "execution_count": 7
        }
      ],
      "source": [
        "import pandas as pd\n",
        "df = pd.DataFrame([\n",
        "    ['1','Informatika',50,30,20],\n",
        "    ['2','Sistem informasi',55,30,25],\n",
        "    ['3','Teknik Sipil',40,30,10]\n",
        "])\n",
        "df.columns = ['No','Prodi','Mahasiswa','Laki-laki','Perempuan']\n",
        "data = {'No': ['1','2','3'],\n",
        "        'Prodi' : ['Informatika','Sistem Inormasi','Teknik Sipil'],\n",
        "        'Mahasiswa': [50,55,40],\n",
        "        'Laki-Laki' : [30,30,30],\n",
        "        'Perempuan' : [20,25,10],\n",
        "        }\n",
        "\n",
        "df = pd.DataFrame(data, index=['a','b','c'])\n",
        "\n",
        "df.head()"
      ]
    },
    {
      "cell_type": "markdown",
      "source": [
        "Latihan 11"
      ],
      "metadata": {
        "id": "lLGTvc-pWrYe"
      }
    },
    {
      "cell_type": "code",
      "source": [
        "import numpy as np  # Import numpy\n",
        "\n",
        "matriks = np.array([[100, 200, 300], [700, 600, 500], [900, 1000, 800]])\n",
        "print(\"Matriks:\")\n",
        "print(matriks)\n",
        "\n",
        "# Transpose the numpy array\n",
        "transpose = np.transpose(matriks)\n",
        "print(\"T-Matriks:\")\n",
        "print(transpose)"
      ],
      "metadata": {
        "colab": {
          "base_uri": "https://localhost:8080/"
        },
        "id": "YziZfRToWtEB",
        "outputId": "e6d6a609-6af5-4db3-8f28-72628beb2ec7"
      },
      "execution_count": 12,
      "outputs": [
        {
          "output_type": "stream",
          "name": "stdout",
          "text": [
            "Matriks:\n",
            "[[ 100  200  300]\n",
            " [ 700  600  500]\n",
            " [ 900 1000  800]]\n",
            "T-Matriks:\n",
            "[[ 100  700  900]\n",
            " [ 200  600 1000]\n",
            " [ 300  500  800]]\n"
          ]
        }
      ]
    },
    {
      "cell_type": "markdown",
      "source": [
        "Latihan 12"
      ],
      "metadata": {
        "id": "5_g5q-u5YA02"
      }
    },
    {
      "cell_type": "code",
      "source": [
        "# Tree\n",
        "print(\"# Tree\\n\")\n",
        "\n",
        "# Membuat class tree\n",
        "class Node:\n",
        "    def __init__(self,data):\n",
        "        self.left = None\n",
        "        self.right = None\n",
        "        self.data = data\n",
        "    def print_tree(self):\n",
        "        if self.left:\n",
        "            self.left.print_tree()\n",
        "        print( self.data),\n",
        "        if self.right:\n",
        "            self.right.print_tree()\n",
        "\n",
        "# Penggunaan class tree\n",
        "root = Node(2)#root\n",
        "root.left = Node(3) #child kiri dari root\n",
        "root.right = Node(5) #child kanan dari root\n",
        "root.left.left = Node(7) #child kiri dari 3\n",
        "root.left.right = Node(9) #child kanan dari 3\n",
        "root.right.left = Node(11) #child kiri dari 5\n",
        "root.right.right = Node(13) #child kanan dari 5\n",
        "root.print_tree()\n"
      ],
      "metadata": {
        "colab": {
          "base_uri": "https://localhost:8080/"
        },
        "id": "dLU3p2yfXt_V",
        "outputId": "969a2e12-e969-49b8-f37b-142b6efd8c18"
      },
      "execution_count": 14,
      "outputs": [
        {
          "output_type": "stream",
          "name": "stdout",
          "text": [
            "# Tree\n",
            "\n",
            "7\n",
            "3\n",
            "9\n",
            "2\n",
            "11\n",
            "5\n",
            "13\n"
          ]
        }
      ]
    }
  ],
  "metadata": {
    "colab": {
      "provenance": [],
      "authorship_tag": "ABX9TyNI7BF4RySbfzPXMk2uNilx",
      "include_colab_link": true
    },
    "kernelspec": {
      "display_name": "Python 3",
      "name": "python3"
    },
    "language_info": {
      "name": "python"
    }
  },
  "nbformat": 4,
  "nbformat_minor": 0
}